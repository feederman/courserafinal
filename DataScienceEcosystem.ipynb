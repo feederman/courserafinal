{
 "cells": [
  {
   "cell_type": "markdown",
   "id": "28902112",
   "metadata": {},
   "source": [
    "# Data Science Tools and Ecosystem"
   ]
  },
  {
   "cell_type": "markdown",
   "id": "784ad024",
   "metadata": {},
   "source": [
    "In this notebook, Data Science Tools and Ecosystem are summarized."
   ]
  },
  {
   "cell_type": "markdown",
   "id": "0f859639",
   "metadata": {},
   "source": [
    "Some of the popular languages that Data Scientists use are:  \n",
    "1-Python    \n",
    "2-R  \n",
    "3-SQL  "
   ]
  },
  {
   "cell_type": "markdown",
   "id": "e48c947e",
   "metadata": {},
   "source": [
    "Some of the commonly used libraries by Data Scientists include:\n",
    "\n",
    "1-Numpy  \n",
    "2-Pandas  \n",
    "3-Scikit-Learn  \n",
    "4-Matplotlib  \n",
    "5-Tensorflow  \n",
    "6-Seaborn  "
   ]
  },
  {
   "cell_type": "markdown",
   "id": "977a555d",
   "metadata": {},
   "source": [
    "| Data Science Tools       |\n",
    "|--------------------------|\n",
    "| 1. Jupyter Notebook     |\n",
    "| 2. RStudio              |\n",
    "| 3. Visual Studio Code   |\n"
   ]
  },
  {
   "cell_type": "markdown",
   "id": "dd467286",
   "metadata": {},
   "source": [
    "### Below are a few examples of evaluating arithmetic expressions in Python\n"
   ]
  },
  {
   "cell_type": "code",
   "execution_count": 1,
   "id": "aae01614",
   "metadata": {},
   "outputs": [
    {
     "data": {
      "text/plain": [
       "17"
      ]
     },
     "execution_count": 1,
     "metadata": {},
     "output_type": "execute_result"
    }
   ],
   "source": [
    "# This is a simple arithmetic expression to multiply and then add integers.\n",
    "result = (3 * 4) + 5\n",
    "result\n"
   ]
  },
  {
   "cell_type": "code",
   "execution_count": 2,
   "id": "e67829a1",
   "metadata": {},
   "outputs": [
    {
     "data": {
      "text/plain": [
       "3.3333333333333335"
      ]
     },
     "execution_count": 2,
     "metadata": {},
     "output_type": "execute_result"
    }
   ],
   "source": [
    "# This will convert 200 minutes to hours by dividing by 60.\n",
    "minutes = 200\n",
    "hours = minutes / 60\n",
    "hours\n"
   ]
  },
  {
   "cell_type": "markdown",
   "id": "9ad39b3f",
   "metadata": {},
   "source": [
    "**Objectives:**\n",
    "\n",
    "- List popular languages for Data Science.\n",
    "- Explain commonly used libraries in data science.\n",
    "- Create and execute code cells in Jupyter Notebook.\n",
    "- Perform simple arithmetic operations in Python.\n",
    "- Convert units, such as minutes to hours, using Python.\n"
   ]
  },
  {
   "cell_type": "markdown",
   "id": "598d3bb8",
   "metadata": {},
   "source": [
    "## Author\n",
    "Metehan Bati\n"
   ]
  },
  {
   "cell_type": "code",
   "execution_count": null,
   "id": "da08fc49",
   "metadata": {},
   "outputs": [],
   "source": []
  }
 ],
 "metadata": {
  "kernelspec": {
   "display_name": "Python 3 (ipykernel)",
   "language": "python",
   "name": "python3"
  },
  "language_info": {
   "codemirror_mode": {
    "name": "ipython",
    "version": 3
   },
   "file_extension": ".py",
   "mimetype": "text/x-python",
   "name": "python",
   "nbconvert_exporter": "python",
   "pygments_lexer": "ipython3",
   "version": "3.11.4"
  }
 },
 "nbformat": 4,
 "nbformat_minor": 5
}
